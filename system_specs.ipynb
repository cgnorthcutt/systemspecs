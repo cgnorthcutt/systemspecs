{
 "cells": [
  {
   "cell_type": "code",
   "execution_count": 1,
   "metadata": {},
   "outputs": [],
   "source": [
    "from __future__ import print_function\n",
    "import platform\n",
    "import numpy as np\n",
    "import multiprocessing\n",
    "import subprocess\n",
    "import psutil"
   ]
  },
  {
   "cell_type": "code",
   "execution_count": 2,
   "metadata": {},
   "outputs": [
    {
     "name": "stdout",
     "output_type": "stream",
     "text": [
      "Fetching GPU info if it exists. This could take 1 minute.\n"
     ]
    }
   ],
   "source": [
    "gpu_info = None\n",
    "try:\n",
    "    print('Fetching GPU info if it exists. This could take 1 minute.')\n",
    "    gpu_info = subprocess.check_output('nvidia-smi')\n",
    "except:\n",
    "    pass"
   ]
  },
  {
   "cell_type": "code",
   "execution_count": 3,
   "metadata": {},
   "outputs": [
    {
     "name": "stdout",
     "output_type": "stream",
     "text": [
      "\n",
      "----------------\n",
      "| SYSTEM SPECS |\n",
      "----------------\n",
      "\n",
      "OS: Linux #1 SMP Debian 4.9.130-2 (2018-10-27)\n",
      "Architecture: 64bit , x86_64\n",
      "Storage: 394 GB\n",
      "RAM: 208 GB\n",
      "Num CPU: 24\n",
      "Num GPU: 8\n",
      "\n",
      "GPU Information\n",
      "***************\n",
      "Thu Jan 10 22:01:08 2019       \n",
      "+-----------------------------------------------------------------------------+\n",
      "| NVIDIA-SMI 410.72       Driver Version: 410.72       CUDA Version: 10.0     |\n",
      "|-------------------------------+----------------------+----------------------+\n",
      "| GPU  Name        Persistence-M| Bus-Id        Disp.A | Volatile Uncorr. ECC |\n",
      "| Fan  Temp  Perf  Pwr:Usage/Cap|         Memory-Usage | GPU-Util  Compute M. |\n",
      "|===============================+======================+======================|\n",
      "|   0  Tesla K80           Off  | 00000000:00:04.0 Off |                    0 |\n",
      "| N/A   44C    P8    28W / 149W |      0MiB / 11441MiB |      0%      Default |\n",
      "+-------------------------------+----------------------+----------------------+\n",
      "|   1  Tesla K80           Off  | 00000000:00:05.0 Off |                    0 |\n",
      "| N/A   70C    P8    32W / 149W |      0MiB / 11441MiB |      0%      Default |\n",
      "+-------------------------------+----------------------+----------------------+\n",
      "|   2  Tesla K80           Off  | 00000000:00:06.0 Off |                    0 |\n",
      "| N/A   45C    P0    59W / 149W |      0MiB / 11441MiB |      0%      Default |\n",
      "+-------------------------------+----------------------+----------------------+\n",
      "|   3  Tesla K80           Off  | 00000000:00:07.0 Off |                    0 |\n",
      "| N/A   72C    P0    75W / 149W |      0MiB / 11441MiB |      0%      Default |\n",
      "+-------------------------------+----------------------+----------------------+\n",
      "|   4  Tesla K80           Off  | 00000000:00:08.0 Off |                    0 |\n",
      "| N/A   45C    P0    56W / 149W |      0MiB / 11441MiB |      0%      Default |\n",
      "+-------------------------------+----------------------+----------------------+\n",
      "|   5  Tesla K80           Off  | 00000000:00:09.0 Off |                    0 |\n",
      "| N/A   68C    P0    79W / 149W |      0MiB / 11441MiB |      0%      Default |\n",
      "+-------------------------------+----------------------+----------------------+\n",
      "|   6  Tesla K80           Off  | 00000000:00:0A.0 Off |                    0 |\n",
      "| N/A   45C    P0    67W / 149W |      0MiB / 11441MiB |      0%      Default |\n",
      "+-------------------------------+----------------------+----------------------+\n",
      "|   7  Tesla K80           Off  | 00000000:00:0B.0 Off |                    0 |\n",
      "| N/A   67C    P0    88W / 149W |      0MiB / 11441MiB |     24%      Default |\n",
      "+-------------------------------+----------------------+----------------------+\n",
      "                                                                               \n",
      "+-----------------------------------------------------------------------------+\n",
      "| Processes:                                                       GPU Memory |\n",
      "|  GPU       PID   Type   Process name                             Usage      |\n",
      "|=============================================================================|\n",
      "|  No running processes found                                                 |\n",
      "+-----------------------------------------------------------------------------+\n",
      "\n"
     ]
    }
   ],
   "source": [
    "print()\n",
    "print('----------------')\n",
    "print('| SYSTEM SPECS |')\n",
    "print('----------------')\n",
    "print('\\nOS:', platform.system(), platform.version())\n",
    "print('Architecture:', platform.architecture()[0], \",\", platform.machine())\n",
    "print('Storage:', int(round(psutil.disk_usage('/').total / (1024.0 ** 3))), 'GB')\n",
    "print('RAM:', int(np.round(psutil.virtual_memory()._asdict()['available'] / 1e9, 0)), 'GB')\n",
    "print('Num CPU:', multiprocessing.cpu_count())\n",
    "if gpu_info is not None and len(gpu_info) > 0:    \n",
    "    print('Num GPU:', str(gpu_info).count('W / '))\n",
    "    print('\\nGPU Information\\n***************')\n",
    "    print(gpu_info.decode())"
   ]
  }
 ],
 "metadata": {
  "kernelspec": {
   "display_name": "Python 3",
   "language": "python",
   "name": "python3"
  },
  "language_info": {
   "codemirror_mode": {
    "name": "ipython",
    "version": 3
   },
   "file_extension": ".py",
   "mimetype": "text/x-python",
   "name": "python",
   "nbconvert_exporter": "python",
   "pygments_lexer": "ipython3",
   "version": "3.5.3"
  }
 },
 "nbformat": 4,
 "nbformat_minor": 2
}
